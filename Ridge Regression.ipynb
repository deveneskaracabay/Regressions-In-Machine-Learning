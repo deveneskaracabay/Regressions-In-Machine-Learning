{
 "cells": [
  {
   "cell_type": "markdown",
   "metadata": {},
   "source": [
    "# Ridge Regression"
   ]
  },
  {
   "cell_type": "code",
   "execution_count": 12,
   "metadata": {},
   "outputs": [],
   "source": [
    "# importing libraries\n",
    "import pandas as pd\n",
    "import numpy as np\n",
    "import matplotlib.pyplot as plt\n",
    "from sklearn.model_selection import train_test_split\n",
    "from sklearn.linear_model import Ridge, RidgeCV\n",
    "from sklearn.metrics import mean_squared_error\n",
    "import statsmodels.api as sm\n",
    "\n",
    "# data preprocessing steps\n",
    "df = pd.read_csv(\"housing.csv\")\n",
    "# if 'total_bedrooms' None equals to zero\n",
    "for i in df[df.total_bedrooms.isnull()].index:\n",
    "    df.iloc[i,4]=0\n",
    "# OneHotEncoding\n",
    "df = pd.get_dummies(df,columns=[\"ocean_proximity\"])\n",
    "X = df.drop(\"median_house_value\", axis=1)\n",
    "y = df[[\"median_house_value\"]]\n",
    "X_train, X_test, y_train, y_test = train_test_split(X, y, test_size=.20, random_state=0)\n"
   ]
  },
  {
   "cell_type": "code",
   "execution_count": 16,
   "metadata": {},
   "outputs": [
    {
     "data": {
      "text/plain": [
       "68816.45668468832"
      ]
     },
     "execution_count": 16,
     "metadata": {},
     "output_type": "execute_result"
    }
   ],
   "source": [
    "# Pred\n",
    "r_first = Ridge().fit(X_train, y_train)\n",
    "mean_squared_error(y_test, r_first.predict(X_test)) ** .5"
   ]
  },
  {
   "cell_type": "code",
   "execution_count": 13,
   "metadata": {},
   "outputs": [],
   "source": [
    "# Model Tuning"
   ]
  },
  {
   "cell_type": "code",
   "execution_count": 17,
   "metadata": {},
   "outputs": [
    {
     "data": {
      "text/plain": [
       "array([1.00000000e+10, 5.68986603e+09, 3.23745754e+09, 1.84206997e+09,\n",
       "       1.04811313e+09, 5.96362332e+08, 3.39322177e+08, 1.93069773e+08,\n",
       "       1.09854114e+08, 6.25055193e+07, 3.55648031e+07, 2.02358965e+07,\n",
       "       1.15139540e+07, 6.55128557e+06, 3.72759372e+06, 2.12095089e+06,\n",
       "       1.20679264e+06, 6.86648845e+05, 3.90693994e+05, 2.22299648e+05,\n",
       "       1.26485522e+05, 7.19685673e+04, 4.09491506e+04, 2.32995181e+04,\n",
       "       1.32571137e+04, 7.54312006e+03, 4.29193426e+03, 2.44205309e+03,\n",
       "       1.38949549e+03, 7.90604321e+02, 4.49843267e+02, 2.55954792e+02,\n",
       "       1.45634848e+02, 8.28642773e+01, 4.71486636e+01, 2.68269580e+01,\n",
       "       1.52641797e+01, 8.68511374e+00, 4.94171336e+00, 2.81176870e+00,\n",
       "       1.59985872e+00, 9.10298178e-01, 5.17947468e-01, 2.94705170e-01,\n",
       "       1.67683294e-01, 9.54095476e-02, 5.42867544e-02, 3.08884360e-02,\n",
       "       1.75751062e-02, 1.00000000e-02])"
      ]
     },
     "execution_count": 17,
     "metadata": {},
     "output_type": "execute_result"
    }
   ],
   "source": [
    "alphas = 10**np.linspace(10,-2,50)\n",
    "alphas"
   ]
  },
  {
   "cell_type": "code",
   "execution_count": 18,
   "metadata": {},
   "outputs": [
    {
     "data": {
      "text/plain": [
       "RidgeCV(alphas=array([1.00000000e+10, 5.68986603e+09, 3.23745754e+09, 1.84206997e+09,\n",
       "       1.04811313e+09, 5.96362332e+08, 3.39322177e+08, 1.93069773e+08,\n",
       "       1.09854114e+08, 6.25055193e+07, 3.55648031e+07, 2.02358965e+07,\n",
       "       1.15139540e+07, 6.55128557e+06, 3.72759372e+06, 2.12095089e+06,\n",
       "       1.20679264e+06, 6.86648845e+05, 3.90693994e+05, 2.22299648e+05,\n",
       "       1.26485522e+05, 7.19685673e+0...\n",
       "       1.38949549e+03, 7.90604321e+02, 4.49843267e+02, 2.55954792e+02,\n",
       "       1.45634848e+02, 8.28642773e+01, 4.71486636e+01, 2.68269580e+01,\n",
       "       1.52641797e+01, 8.68511374e+00, 4.94171336e+00, 2.81176870e+00,\n",
       "       1.59985872e+00, 9.10298178e-01, 5.17947468e-01, 2.94705170e-01,\n",
       "       1.67683294e-01, 9.54095476e-02, 5.42867544e-02, 3.08884360e-02,\n",
       "       1.75751062e-02, 1.00000000e-02]),\n",
       "        cv=10, normalize=True, scoring='neg_mean_squared_error')"
      ]
     },
     "execution_count": 18,
     "metadata": {},
     "output_type": "execute_result"
    }
   ],
   "source": [
    "r_cv = RidgeCV(alphas=alphas, scoring=\"neg_mean_squared_error\", \n",
    "               cv=10, normalize=True)\n",
    "r_cv.fit(X_train, y_train)"
   ]
  },
  {
   "cell_type": "code",
   "execution_count": 19,
   "metadata": {},
   "outputs": [
    {
     "data": {
      "text/plain": [
       "0.01"
      ]
     },
     "execution_count": 19,
     "metadata": {},
     "output_type": "execute_result"
    }
   ],
   "source": [
    "r_cv.alpha_"
   ]
  },
  {
   "cell_type": "code",
   "execution_count": 20,
   "metadata": {},
   "outputs": [],
   "source": [
    "r_reg = Ridge(alpha=0.01)\n",
    "r_reg.fit(X_train, y_train)\n",
    "y_pred_Ridge = r_reg.predict(X_test)"
   ]
  },
  {
   "cell_type": "code",
   "execution_count": 23,
   "metadata": {},
   "outputs": [
    {
     "data": {
      "text/plain": [
       "68814.62223481952"
      ]
     },
     "execution_count": 23,
     "metadata": {},
     "output_type": "execute_result"
    }
   ],
   "source": [
    "# Optimized RMSE SCORE\n",
    "mean_squared_error(y_test, y_pred_Ridge) ** .5"
   ]
  },
  {
   "cell_type": "code",
   "execution_count": null,
   "metadata": {},
   "outputs": [],
   "source": []
  }
 ],
 "metadata": {
  "kernelspec": {
   "display_name": "Python 3",
   "language": "python",
   "name": "python3"
  },
  "language_info": {
   "codemirror_mode": {
    "name": "ipython",
    "version": 3
   },
   "file_extension": ".py",
   "mimetype": "text/x-python",
   "name": "python",
   "nbconvert_exporter": "python",
   "pygments_lexer": "ipython3",
   "version": "3.8.5"
  }
 },
 "nbformat": 4,
 "nbformat_minor": 4
}
