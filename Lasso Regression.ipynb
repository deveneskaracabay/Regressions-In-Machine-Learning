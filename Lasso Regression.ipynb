{
 "cells": [
  {
   "cell_type": "markdown",
   "metadata": {},
   "source": [
    "# Lasso Regression"
   ]
  },
  {
   "cell_type": "code",
   "execution_count": 3,
   "metadata": {},
   "outputs": [],
   "source": [
    "# importing libraries\n",
    "import pandas as pd\n",
    "import numpy as np\n",
    "import matplotlib.pyplot as plt\n",
    "from sklearn.model_selection import train_test_split\n",
    "from sklearn.linear_model import Lasso, LassoCV\n",
    "from sklearn.metrics import mean_squared_error\n",
    "import statsmodels.api as sm\n",
    "\n",
    "# data preprocessing steps\n",
    "df = pd.read_csv(\"housing.csv\")\n",
    "# if 'total_bedrooms' None equals to zero\n",
    "for i in df[df.total_bedrooms.isnull()].index:\n",
    "    df.iloc[i,4]=0\n",
    "# OneHotEncoding\n",
    "df = pd.get_dummies(df,columns=[\"ocean_proximity\"])\n",
    "X = df.drop(\"median_house_value\", axis=1)\n",
    "y = df[[\"median_house_value\"]]\n",
    "X_train, X_test, y_train, y_test = train_test_split(X, y, test_size=.20, random_state=0)\n"
   ]
  },
  {
   "cell_type": "code",
   "execution_count": 7,
   "metadata": {},
   "outputs": [
    {
     "name": "stderr",
     "output_type": "stream",
     "text": [
      "/home/enes/.local/lib/python3.8/site-packages/sklearn/linear_model/_coordinate_descent.py:530: ConvergenceWarning: Objective did not converge. You might want to increase the number of iterations. Duality gap: 6370444372768.547, tolerance: 22099190214.6108\n",
      "  model = cd_fast.enet_coordinate_descent(\n"
     ]
    },
    {
     "data": {
      "text/plain": [
       "68814.37214771632"
      ]
     },
     "execution_count": 7,
     "metadata": {},
     "output_type": "execute_result"
    }
   ],
   "source": [
    "# Pred\n",
    "l_first = Lasso().fit(X_train, y_train)\n",
    "mean_squared_error(y_test, l_first.predict(X_test)) ** .5"
   ]
  },
  {
   "cell_type": "code",
   "execution_count": 8,
   "metadata": {},
   "outputs": [],
   "source": [
    "# Model Tuning"
   ]
  },
  {
   "cell_type": "code",
   "execution_count": 9,
   "metadata": {},
   "outputs": [
    {
     "data": {
      "text/plain": [
       "array([1.00000000e+10, 5.68986603e+09, 3.23745754e+09, 1.84206997e+09,\n",
       "       1.04811313e+09, 5.96362332e+08, 3.39322177e+08, 1.93069773e+08,\n",
       "       1.09854114e+08, 6.25055193e+07, 3.55648031e+07, 2.02358965e+07,\n",
       "       1.15139540e+07, 6.55128557e+06, 3.72759372e+06, 2.12095089e+06,\n",
       "       1.20679264e+06, 6.86648845e+05, 3.90693994e+05, 2.22299648e+05,\n",
       "       1.26485522e+05, 7.19685673e+04, 4.09491506e+04, 2.32995181e+04,\n",
       "       1.32571137e+04, 7.54312006e+03, 4.29193426e+03, 2.44205309e+03,\n",
       "       1.38949549e+03, 7.90604321e+02, 4.49843267e+02, 2.55954792e+02,\n",
       "       1.45634848e+02, 8.28642773e+01, 4.71486636e+01, 2.68269580e+01,\n",
       "       1.52641797e+01, 8.68511374e+00, 4.94171336e+00, 2.81176870e+00,\n",
       "       1.59985872e+00, 9.10298178e-01, 5.17947468e-01, 2.94705170e-01,\n",
       "       1.67683294e-01, 9.54095476e-02, 5.42867544e-02, 3.08884360e-02,\n",
       "       1.75751062e-02, 1.00000000e-02])"
      ]
     },
     "execution_count": 9,
     "metadata": {},
     "output_type": "execute_result"
    }
   ],
   "source": [
    "alphas = 10**np.linspace(10,-2,50)\n",
    "alphas"
   ]
  },
  {
   "cell_type": "code",
   "execution_count": 11,
   "metadata": {},
   "outputs": [
    {
     "name": "stderr",
     "output_type": "stream",
     "text": [
      "/home/enes/.local/lib/python3.8/site-packages/sklearn/utils/validation.py:63: DataConversionWarning: A column-vector y was passed when a 1d array was expected. Please change the shape of y to (n_samples, ), for example using ravel().\n",
      "  return f(*args, **kwargs)\n"
     ]
    },
    {
     "data": {
      "text/plain": [
       "LassoCV(alphas=array([1.00000000e+10, 5.68986603e+09, 3.23745754e+09, 1.84206997e+09,\n",
       "       1.04811313e+09, 5.96362332e+08, 3.39322177e+08, 1.93069773e+08,\n",
       "       1.09854114e+08, 6.25055193e+07, 3.55648031e+07, 2.02358965e+07,\n",
       "       1.15139540e+07, 6.55128557e+06, 3.72759372e+06, 2.12095089e+06,\n",
       "       1.20679264e+06, 6.86648845e+05, 3.90693994e+05, 2.22299648e+05,\n",
       "       1.26485522e+05, 7.19685673e+0...\n",
       "       1.38949549e+03, 7.90604321e+02, 4.49843267e+02, 2.55954792e+02,\n",
       "       1.45634848e+02, 8.28642773e+01, 4.71486636e+01, 2.68269580e+01,\n",
       "       1.52641797e+01, 8.68511374e+00, 4.94171336e+00, 2.81176870e+00,\n",
       "       1.59985872e+00, 9.10298178e-01, 5.17947468e-01, 2.94705170e-01,\n",
       "       1.67683294e-01, 9.54095476e-02, 5.42867544e-02, 3.08884360e-02,\n",
       "       1.75751062e-02, 1.00000000e-02]),\n",
       "        cv=10, normalize=True)"
      ]
     },
     "execution_count": 11,
     "metadata": {},
     "output_type": "execute_result"
    }
   ],
   "source": [
    "l_cv = LassoCV(alphas=alphas, cv=10, normalize=True)\n",
    "l_cv.fit(X_train, y_train)"
   ]
  },
  {
   "cell_type": "code",
   "execution_count": 12,
   "metadata": {},
   "outputs": [
    {
     "data": {
      "text/plain": [
       "0.29470517025518095"
      ]
     },
     "execution_count": 12,
     "metadata": {},
     "output_type": "execute_result"
    }
   ],
   "source": [
    "l_cv.alpha_"
   ]
  },
  {
   "cell_type": "code",
   "execution_count": 14,
   "metadata": {},
   "outputs": [
    {
     "name": "stderr",
     "output_type": "stream",
     "text": [
      "/home/enes/.local/lib/python3.8/site-packages/sklearn/linear_model/_coordinate_descent.py:530: ConvergenceWarning: Objective did not converge. You might want to increase the number of iterations. Duality gap: 6369139637421.4375, tolerance: 22099190214.6108\n",
      "  model = cd_fast.enet_coordinate_descent(\n"
     ]
    }
   ],
   "source": [
    "l_reg = Lasso(alpha=l_cv.alpha_)\n",
    "l_reg.fit(X_train, y_train)\n",
    "y_pred_Lasso = l_reg.predict(X_test)"
   ]
  },
  {
   "cell_type": "code",
   "execution_count": 15,
   "metadata": {},
   "outputs": [
    {
     "data": {
      "text/plain": [
       "68814.55093418405"
      ]
     },
     "execution_count": 15,
     "metadata": {},
     "output_type": "execute_result"
    }
   ],
   "source": [
    "# Optimized RMSE SCORE\n",
    "mean_squared_error(y_test, y_pred_Lasso) ** .5"
   ]
  },
  {
   "cell_type": "code",
   "execution_count": null,
   "metadata": {},
   "outputs": [],
   "source": []
  }
 ],
 "metadata": {
  "kernelspec": {
   "display_name": "Python 3",
   "language": "python",
   "name": "python3"
  },
  "language_info": {
   "codemirror_mode": {
    "name": "ipython",
    "version": 3
   },
   "file_extension": ".py",
   "mimetype": "text/x-python",
   "name": "python",
   "nbconvert_exporter": "python",
   "pygments_lexer": "ipython3",
   "version": "3.8.5"
  }
 },
 "nbformat": 4,
 "nbformat_minor": 4
}
